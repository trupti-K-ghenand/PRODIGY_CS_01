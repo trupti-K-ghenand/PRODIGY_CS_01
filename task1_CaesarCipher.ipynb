{
 "cells": [
  {
   "cell_type": "code",
   "execution_count": 6,
   "id": "6d1633ed-f3d8-45ff-ba12-a1fba899eb87",
   "metadata": {},
   "outputs": [
    {
     "name": "stdin",
     "output_type": "stream",
     "text": [
      "enter string: trupti ghenand\n",
      "enter key1: 3\n",
      "enter key2: 4\n"
     ]
    },
    {
     "name": "stdout",
     "output_type": "stream",
     "text": [
      "cipher_text(encrypted):  wvxtwm kkiqeqh\n",
      "cipher_text(decrypt): trupti ghenand\n"
     ]
    }
   ],
   "source": [
    "#Task-01\n",
    "#implementation of caesar cipher ( encryption technique)\n",
    "'''Create a Python program that can encrypt and decrypt text using the Caesar Cipher algorithm. \n",
    "    Allow users to input a message and a shift value to perform encryption and decryption.'''\n",
    "\n",
    "\n",
    "#function for encryption of plain text using 2 keys\n",
    "def encrypt(plain_text,key1,key2,cipher_text):\n",
    "    #enumerate allows to keep track ofno of iteration in a loop\n",
    "   for index,char in enumerate(plain_text):\n",
    "       #isalpha() boolean function returns true or false\n",
    "       if char.isalpha():\n",
    "           shift = key1 if index % 2 == 0 else key2\n",
    "           #ord() returns the number representing unicode code of character\n",
    "           base = ord('A') if char.isupper() else ord('a')\n",
    "           if char== \" \":\n",
    "               cipher_text+=\" \"    \n",
    "           else:\n",
    "               cipher_text+=chr((ord(char)+shift-base)%26+base)\n",
    "       else:\n",
    "           cipher_text+=char\n",
    "   return cipher_text\n",
    "\n",
    "#function for decryption using 2 keys\n",
    "def decrypt(plain_text,key1,key2,cipher_text):\n",
    "   for index,char in enumerate(cipher_text):\n",
    "       if char.isalpha():\n",
    "           shift = key1 if index % 2 == 0 else key2\n",
    "           base = ord('A') if char.isupper() else ord('a')\n",
    "           if char== \" \":\n",
    "               plain_text+=\" \"    \n",
    "           else:\n",
    "               plain_text+=chr((ord(char)+shift-base)%26-base)\n",
    "       else:\n",
    "            cipher_text+=char\n",
    "   return plain_text\n",
    "\n",
    "#enter the string you want to encrypt\n",
    "plain_text=input(\"enter string:\")\n",
    "#keys are the integers\n",
    "key1=int(input(\"enter key1:\"))\n",
    "key2=int(input(\"enter key2:\"))\n",
    "cipher_text=\" \"\n",
    "\n",
    "e=encrypt(plain_text,key1,key2,cipher_text)\n",
    "print(\"cipher_text(encrypted):\",e)\n",
    "d=decrypt(plain_text,key1,key2,cipher_text)\n",
    "print(\"cipher_text(decrypt):\",d)"
   ]
  },
  {
   "cell_type": "code",
   "execution_count": null,
   "id": "2832c8cb-0d3b-4e38-b4ef-adf736c0934f",
   "metadata": {},
   "outputs": [],
   "source": []
  }
 ],
 "metadata": {
  "kernelspec": {
   "display_name": "Python 3 (ipykernel)",
   "language": "python",
   "name": "python3"
  },
  "language_info": {
   "codemirror_mode": {
    "name": "ipython",
    "version": 3
   },
   "file_extension": ".py",
   "mimetype": "text/x-python",
   "name": "python",
   "nbconvert_exporter": "python",
   "pygments_lexer": "ipython3",
   "version": "3.11.7"
  }
 },
 "nbformat": 4,
 "nbformat_minor": 5
}
