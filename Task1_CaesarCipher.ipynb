{
 "cells": [
  {
   "cell_type": "code",
   "execution_count": null,
   "id": "471d8df6-4a29-401d-b449-05e1faa99327",
   "metadata": {},
   "outputs": [],
   "source": [
    "def encrypt(plain_text,key,cipher_text):\n",
    "   for i in plain_text:\n",
    "    if i== \" \":\n",
    "        cipher_text+=\" \"    \n",
    "    else:\n",
    "        cipher_text+=chr((ord(i)+key-65)%26+65)\n",
    "   return cipher_text\n",
    "def decrypt(plain_text,key,cipher_text):\n",
    "   for i in cipher_text:\n",
    "    if i== \" \":\n",
    "        plain_text+=\" \"    \n",
    "    else:\n",
    "        plain_text+=chr((ord(i)+key-65)%26-65)\n",
    "   return plain_text\n",
    "plain_text=input(\"enter string:\")\n",
    "plain_text=plain_text.upper()\n",
    "key=int(input(\"enter key:\"))\n",
    "cipher_text=\" \"\n",
    "e=encrypt(plain_text,key,cipher_text)\n",
    "print(\"cipher_text(encrypted):\",e)\n",
    "d=decrypt(plain_text,key,cipher_text)\n",
    "print(\"cipher_text(decrypt):\",d)"
   ]
  },
  {
   "cell_type": "code",
   "execution_count": null,
   "id": "e0c16a56-04a5-4904-9e0d-52c1e028ce27",
   "metadata": {},
   "outputs": [],
   "source": []
  }
 ],
 "metadata": {
  "kernelspec": {
   "display_name": "Python 3 (ipykernel)",
   "language": "python",
   "name": "python3"
  },
  "language_info": {
   "codemirror_mode": {
    "name": "ipython",
    "version": 3
   },
   "file_extension": ".py",
   "mimetype": "text/x-python",
   "name": "python",
   "nbconvert_exporter": "python",
   "pygments_lexer": "ipython3",
   "version": "3.11.7"
  }
 },
 "nbformat": 4,
 "nbformat_minor": 5
}
